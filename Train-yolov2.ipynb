{
  "nbformat": 4,
  "nbformat_minor": 0,
  "metadata": {
    "colab": {
      "name": "Train-yolov2.ipynb",
      "provenance": [],
      "collapsed_sections": []
    },
    "kernelspec": {
      "display_name": "Python 3",
      "name": "python3"
    }
  },
  "cells": [
    {
      "cell_type": "code",
      "metadata": {
        "id": "9aAENSonaQ1p"
      },
      "source": [
        "from google.colab import drive\n",
        "drive.mount('/content/drive')"
      ],
      "execution_count": null,
      "outputs": []
    },
    {
      "cell_type": "code",
      "metadata": {
        "id": "6_eD5IyJaicv"
      },
      "source": [
        "%cd '/content/drive/My Drive/YoloV2/darkflow-master/'"
      ],
      "execution_count": null,
      "outputs": []
    },
    {
      "cell_type": "code",
      "metadata": {
        "id": "Wbdhff9tbQEo"
      },
      "source": [
        "!pip install tensorflow==1.13.2"
      ],
      "execution_count": null,
      "outputs": []
    },
    {
      "cell_type": "code",
      "metadata": {
        "id": "uGpi8tjmcVE6"
      },
      "source": [
        "!pip install codecov"
      ],
      "execution_count": null,
      "outputs": []
    },
    {
      "cell_type": "code",
      "metadata": {
        "id": "Bp1EtHGpggOg"
      },
      "source": [
        "!pip install ."
      ],
      "execution_count": null,
      "outputs": []
    },
    {
      "cell_type": "code",
      "metadata": {
        "id": "XGwzWvKJfQS5"
      },
      "source": [
        "!python setup.py build_ext --inplace"
      ],
      "execution_count": null,
      "outputs": []
    },
    {
      "cell_type": "code",
      "metadata": {
        "colab": {
          "background_save": true
        },
        "id": "eASSfEmtaz2v"
      },
      "source": [
        "!python flow --model cfg/tiny-yolo-voc-5c.cfg --load bin/yolov2-tiny.weights --train --annotation bin/annotation --dataset bin/data_image --gpu 1.0 --epoch 1500"
      ],
      "execution_count": null,
      "outputs": []
    }
  ]
}
